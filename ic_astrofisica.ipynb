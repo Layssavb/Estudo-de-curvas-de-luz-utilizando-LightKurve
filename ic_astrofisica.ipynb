{
 "cells": [
  {
   "cell_type": "markdown",
   "metadata": {},
   "source": [
    "# Estudo de Curvas de Luz com Lightkurve\n",
    "\n",
    "**Autor:** Layssa V. B.  \n",
    "**Data:** 2025-10-01\n",
    "\n",
    "Este notebook tem como objetivo demonstrar boas práticas no estudo e análise de curvas de luz astronômicas utilizando a biblioteca [Lightkurve](https://docs.lightkurve.org/).\n",
    "\n",
    "Serão apresentados métodos para busca, visualização, normalização e comparação de curvas de luz de diferentes missões (TESS, K2), utilizando como exemplo a estrela AA Tau (TIC 268510757 / EPIC 247810494 / ktwo247810494)."
   ]
  },
  {
   "cell_type": "markdown",
   "metadata": {},
   "source": [
    "## 1. Instalação e Importação das Bibliotecas\n",
    "\n",
    "**Requisitos:** lightkurve, matplotlib"
   ]
  },
  {
   "cell_type": "code",
   "metadata": {},
   "source": [
    "!pip install -q lightkurve"
   ],
   "execution_count": null,
   "outputs": []
  },
  {
   "cell_type": "code",
   "metadata": {},
   "source": [
    "import lightkurve as lk\n",
    "import matplotlib.pyplot as plt\n",
    "\n",
    "# Configuração global dos gráficos\n",
    "plt.rcParams.update({'figure.figsize': (12,5), 'font.size': 12})"
   ],
   "execution_count": null,
   "outputs": []
  },
  {
   "cell_type": "markdown",
   "metadata": {},
   "source": [
    "## 2. Funções Auxiliares\n",
    "\n",
    "Função para busca e plotagem de curvas de luz de forma modular e reaproveitável."
   ]
  },
  {
   "cell_type": "code",
   "metadata": {},
   "source": [
    "def search_and_plot(target, mission, author=None, exptime=None, normalize=False, label=None):\n",
    "    \"\"\"\n",
    "    Busca e plota curvas de luz para um alvo, missão, autor e tempo de exposição específicos.\n",
    "    \"\"\"\n",
    "    search = lk.search_lightcurve(target, mission=mission, author=author, exptime=exptime)\n",
    "    if search.table is None or len(search) == 0:\n",
    "        print(f'Nenhum dado encontrado para {target} ({mission}, {author}, {exptime}s)')\n",
    "        return None\n",
    "    lcc = search.download_all()\n",
    "    for lc in lcc:\n",
    "        if normalize:\n",
    "            lc = lc.normalize()\n",
    "        lc.plot(label=label)\n",
    "    plt.legend()\n",
    "    plt.xlabel('Tempo (dias)', fontsize=12)\n",
    "    plt.ylabel('Fluxo normalizado' if normalize else 'Fluxo', fontsize=12)\n",
    "    plt.title(f'Curva de luz: {target} ({mission}{\" - \" + str(author) if author else \"\"}{\" - \" + str(exptime) + \"s\" if exptime else \"\"})')\n",
    "    plt.show()\n",
    "    return lcc"
   ],
   "execution_count": null,
   "outputs": []
  },
  {
   "cell_type": "markdown",
   "metadata": {},
   "source": [
    "## 3. Identificação do Alvo e Busca dos Dados\n",
    "\n",
    "- **AA Tau**: TIC 268510757 (TESS), EPIC 247810494 ou ktwo247810494 (K2)\n",
    "- **Missões disponíveis**: TESS, K2\n"
   ]
  },
  {
   "cell_type": "code",
   "metadata": {},
   "source": [
    "# Exemplo: Buscar todos os setores disponíveis para AA Tau em TESS\n",
    "search_tess = lk.search_lightcurve('TIC 268510757', mission='TESS')\n",
    "search_tess"
   ],
   "execution_count": null,
   "outputs": []
  },
  {
   "cell_type": "markdown",
   "metadata": {},
   "source": [
    "## 4. Separação dos Dados por Autor e Tempo de Exposição\n",
    "\n",
    "Curvas de luz de diferentes autores e tempos de exposição podem apresentar características distintas. Vamos buscar e visualizar cada uma separadamente."
   ]
  },
  {
   "cell_type": "code",
   "metadata": {},
   "source": [
    "# SPOC - 20s\n",
    "lc_spoc20 = search_and_plot('TIC 268510757', 'TESS', author='SPOC', exptime=20, normalize=True, label='SPOC 20s')\n",
    "# SPOC - 120s\n",
    "lc_spoc120 = search_and_plot('TIC 268510757', 'TESS', author='SPOC', exptime=120, normalize=True, label='SPOC 120s')\n",
    "# QLP - 200s\n",
    "lc_qlp200 = search_and_plot('TIC 268510757', 'TESS', author='QLP', exptime=200, normalize=True, label='QLP 200s')\n",
    "# QLP - 600s\n",
    "lc_qlp600 = search_and_plot('TIC 268510757', 'TESS', author='QLP', exptime=600, normalize=True, label='QLP 600s')\n",
    "# CDIPS - 1800s\n",
    "lc_cdips = search_and_plot('TIC 268510757', 'TESS', author='CDIPS', exptime=1800, normalize=True, label='CDIPS 1800s')"
   ],
   "execution_count": null,
   "outputs": []
  },
  {
   "cell_type": "markdown",
   "metadata": {},
   "source": [
    "### *Nota científica*\n",
    "- **Exposição mais curta**: revela variações rápidas, mais ruído.\n",
    "- **Exposição mais longa**: curva mais suave, menos sensível a variações rápidas.\n",
    "\n",
    "Escolha o melhor conjunto para seu estudo com base no fenômeno de interesse."
   ]
  },
  {
   "cell_type": "markdown",
   "metadata": {},
   "source": [
    "## 5. Repetir o Processo para K2\n",
    "Buscando e visualizando as curvas de luz de K2 para o mesmo alvo."
   ]
  },
  {
   "cell_type": "code",
   "metadata": {},
   "source": [
    "lc_k2 = search_and_plot('ktwo247810494', 'K2', author='K2', exptime=1800, normalize=True, label='K2 1800s')\n",
    "lc_everest = search_and_plot('ktwo247810494', 'K2', author='EVEREST', exptime=1800, normalize=True, label='EVEREST 1800s')\n",
    "lc_k2sff = search_and_plot('ktwo247810494', 'K2', author='K2SFF', exptime=1800, normalize=True, label='K2SFF 1800s')"
   ],
   "execution_count": null,
   "outputs": []
  },
  {
   "cell_type": "markdown",
   "metadata": {},
   "source": [
    "## 6. Normalização das Curvas (se ainda não normalizado)\n",
    "\n",
    "A normalização pode ser aplicada diretamente na função `search_and_plot` com `normalize=True`, como feito acima. Caso deseje normalizar manualmente ou trabalhar com objetos LightCurve, segue exemplo:"
   ]
  },
  {
   "cell_type": "code",
   "metadata": {},
   "source": [
    "# Exemplo de normalização manual\n",
    "if lc_spoc20:\n",
    "    for lc in lc_spoc20:\n",
    "        lc_norm = lc.normalize()\n",
    "        lc_norm.plot(label='SPOC 20s Normalizado')\n",
    "    plt.legend()\n",
    "    plt.show()"
   ],
   "execution_count": null,
   "outputs": []
  },
  {
   "cell_type": "markdown",
   "metadata": {},
   "source": [
    "## 7. Conclusão\n",
    "\n",
    "- O notebook demonstrou como buscar, separar, normalizar e plotar curvas de luz de diferentes missões e configurações.\n",
    "- O uso de funções auxiliares permite reaproveitamento e facilita a comparação entre conjuntos de dados.\n",
    "- As decisões científicas sobre qual curva utilizar devem ser baseadas nos objetivos do estudo (variações rápidas vs. suavidade, ruído, etc).\n"
   ]
  },
  {
   "cell_type": "markdown",
   "metadata": {},
   "source": [
    "## 8. Referências\n",
    "- [Documentação Lightkurve](https://docs.lightkurve.org/)\n",
    "- [TESS Mission](https://tess.mit.edu/)\n",
    "- [K2 Mission](https://keplerscience.arc.nasa.gov/k2.html)\n",
    "- [Astropy](https://www.astropy.org/)"
   ]
  }
 ],
 "metadata": {
  "kernelspec": {
   "display_name": "Python 3",
   "language": "python",
   "name": "python3"
  },
  "language_info": {
   "name": "python",
   "version": ""
  }
 },
 "nbformat": 4,
 "nbformat_minor": 5
}
}
